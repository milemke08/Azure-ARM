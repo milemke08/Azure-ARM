{
 "cells": [
  {
   "cell_type": "code",
   "execution_count": null,
   "metadata": {},
   "outputs": [],
   "source": [
    "from azureml.opendatasets import NycTlcYellow\n",
    "from dateutil import parser\n",
    "\n",
    "end_date = parser.parse('2018-06-06')\n",
    "start_date = parser.parse('2018-05-01')\n",
    "nyc_tlc = NycTlcYellow(start_date=start_date, end_date=end_date)\n",
    "nyc_tlc_df = nyc_tlc.to_pandas_dataframe()\n",
    "nyc_tlc_df = spark.createDataFrame(nyc_tlc_df)\n",
    "nyc_tlc_df.createOrReplaceTempView(\"temp_view\")"
   ]
  },
  {
   "cell_type": "code",
   "execution_count": null,
   "metadata": {},
   "outputs": [],
   "source": [
    "%%spark\n",
    "val newd = spark.sql(\"SELECT * FROM temp_view \")\n",
    "newd.write.mode(\"overwrite\").saveAsTable(\"defaultt1\")"
   ]
  },
  {
   "cell_type": "code",
   "execution_count": null,
   "metadata": {},
   "outputs": [],
   "source": [
    "%%spark\n",
    "val newd = spark.sql(\"SELECT * FROM defaultt1 \")\n",
    "display(newd)"
   ]
  }
 ],
 "metadata": {
  "language_info": {
   "name": "python"
  }
 },
 "nbformat": 4,
 "nbformat_minor": 2
}
